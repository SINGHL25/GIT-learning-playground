
{
 "cells":[
  {"cell_type":"markdown","metadata":{},"source":["# Advanced Git commands - practice"]},
  {"cell_type":"code","metadata":{},"source":["print('Practice git reset, revert, stash in a throwaway repo')"],"execution_count": null,"outputs": []}
 ],
 "metadata": {}, "nbformat":4, "nbformat_minor":5
}
