
{
 "cells":[
  {"cell_type":"markdown","metadata":{},"source":["# GitLab CI demo"]},
  {"cell_type":"code","metadata":{},"source":["print('Open examples/gitlab_examples and inspect .gitlab-ci.yml')"],"execution_count": null,"outputs": []}
 ],
 "metadata": {}, "nbformat":4, "nbformat_minor":5
}
