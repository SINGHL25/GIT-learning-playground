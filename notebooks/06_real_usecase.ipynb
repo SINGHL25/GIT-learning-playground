
{
 "cells":[
  {"cell_type":"markdown","metadata":{},"source":["# Real use case: fork, branch, PR (manual steps)"]},
  {"cell_type":"code","metadata":{},"source":["print('Follow README docs to simulate real PR workflow using GitHub/GitLab web UI')"],"execution_count": null,"outputs": []}
 ],
 "metadata": {}, "nbformat":4, "nbformat_minor":5
}
