
{
 "cells":[
  {"cell_type":"markdown","metadata":{},"source":["# GitHub workflow demo (local)"]},
  {"cell_type":"code","metadata":{},"source":["print('Use git CLI to push to GitHub; this notebook demonstrates local steps only.')"],"execution_count": null,"outputs": []}
 ],
 "metadata": {}, "nbformat":4, "nbformat_minor":5
}
