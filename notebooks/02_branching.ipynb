
{
 "cells":[
  {"cell_type":"markdown","metadata":{},"source":["# Branching demo"]},
  {"cell_type":"code","metadata":{},"source":["from src.branch_manager import BranchManager\nbm = BranchManager('nb_sample_repo')\ntry:\n    bm.create_branch('nb-feature')\n    bm.switch_branch('nb-feature')\n    print('Created and switched to nb-feature')\nexcept Exception as e:\n    print('Run 01_git_basics first', e)"],"execution_count": null, "outputs": []}
 ],
 "metadata": {}, "nbformat":4, "nbformat_minor":5
}
