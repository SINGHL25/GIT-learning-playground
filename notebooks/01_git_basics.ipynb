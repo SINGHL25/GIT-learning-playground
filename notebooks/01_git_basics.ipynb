
{
 "cells": [
  {"cell_type":"markdown","metadata":{},"source":["# Git Basics (GitPython demo)"]},
  {"cell_type":"code","metadata":{},"source":["from src.repo_initializer import initialize_sample_repo\ninitialize_sample_repo('nb_sample_repo')\nprint('Created nb_sample_repo')"], "execution_count": null, "outputs": []}
 ],
 "metadata": {},
 "nbformat": 4,
 "nbformat_minor": 5
}
